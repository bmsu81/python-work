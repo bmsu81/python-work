{
  "nbformat": 4,
  "nbformat_minor": 0,
  "metadata": {
    "colab": {
      "provenance": []
    },
    "kernelspec": {
      "name": "python3",
      "display_name": "Python 3"
    },
    "language_info": {
      "name": "python"
    }
  },
  "cells": [
    {
      "cell_type": "code",
      "execution_count": 19,
      "metadata": {
        "id": "3oLEm941pGCU"
      },
      "outputs": [],
      "source": [
        "%matplotlib inline\n",
        "from pathlib import Path\n",
        "import random\n",
        "import statistics\n",
        "import seaborn as sns\n",
        "import pandas as pd\n",
        "import numpy as np\n",
        "import scipy.stats\n",
        "from scipy import stats\n",
        "from scipy.stats import ttest_ind\n",
        "from scipy.stats import f, f_oneway\n",
        "from scipy.stats import norm\n",
        "import statsmodels.api as sm\n",
        "import statsmodels.formula.api as smf\n",
        "from statsmodels.stats import power\n",
        "import matplotlib.pyplot as plt\n",
        "import seaborn as sns\n",
        "from math import sqrt\n",
        "\n"
      ]
    },
    {
      "cell_type": "code",
      "source": [
        "df= pd.read_excel('/content/Exp Data 4 (1).xlsx')"
      ],
      "metadata": {
        "id": "pYSsiIL8yu2J"
      },
      "execution_count": 4,
      "outputs": []
    },
    {
      "cell_type": "code",
      "source": [
        "df.head()"
      ],
      "metadata": {
        "colab": {
          "base_uri": "https://localhost:8080/",
          "height": 206
        },
        "id": "dJDw1aZ6y2qa",
        "outputId": "585dbe48-ae8f-484e-b1e0-146ace82fed8"
      },
      "execution_count": 5,
      "outputs": [
        {
          "output_type": "execute_result",
          "data": {
            "text/plain": [
              "   User_id UX Design  Sales in first 30 days  \\\n",
              "0     1181       New                   168.0   \n",
              "1     1182       Old                    84.0   \n",
              "2     1183       New                   126.0   \n",
              "3     1184       Old                   157.5   \n",
              "4     1185       New                   168.0   \n",
              "\n",
              "   Time Spent on App in first 30 days Did Subscribe In 30 days?  \\\n",
              "0                                 149                        No   \n",
              "1                                 123                        No   \n",
              "2                                 139                        No   \n",
              "3                                 132                        No   \n",
              "4                                 109                        No   \n",
              "\n",
              "  Retained After First 7 days (between 8 to 30 days of Signup)?  \n",
              "0                                                Yes             \n",
              "1                                                 No             \n",
              "2                                                 No             \n",
              "3                                                 No             \n",
              "4                                                 No             "
            ],
            "text/html": [
              "\n",
              "  <div id=\"df-a14fee31-56a4-4521-984d-9fede6d50512\" class=\"colab-df-container\">\n",
              "    <div>\n",
              "<style scoped>\n",
              "    .dataframe tbody tr th:only-of-type {\n",
              "        vertical-align: middle;\n",
              "    }\n",
              "\n",
              "    .dataframe tbody tr th {\n",
              "        vertical-align: top;\n",
              "    }\n",
              "\n",
              "    .dataframe thead th {\n",
              "        text-align: right;\n",
              "    }\n",
              "</style>\n",
              "<table border=\"1\" class=\"dataframe\">\n",
              "  <thead>\n",
              "    <tr style=\"text-align: right;\">\n",
              "      <th></th>\n",
              "      <th>User_id</th>\n",
              "      <th>UX Design</th>\n",
              "      <th>Sales in first 30 days</th>\n",
              "      <th>Time Spent on App in first 30 days</th>\n",
              "      <th>Did Subscribe In 30 days?</th>\n",
              "      <th>Retained After First 7 days (between 8 to 30 days of Signup)?</th>\n",
              "    </tr>\n",
              "  </thead>\n",
              "  <tbody>\n",
              "    <tr>\n",
              "      <th>0</th>\n",
              "      <td>1181</td>\n",
              "      <td>New</td>\n",
              "      <td>168.0</td>\n",
              "      <td>149</td>\n",
              "      <td>No</td>\n",
              "      <td>Yes</td>\n",
              "    </tr>\n",
              "    <tr>\n",
              "      <th>1</th>\n",
              "      <td>1182</td>\n",
              "      <td>Old</td>\n",
              "      <td>84.0</td>\n",
              "      <td>123</td>\n",
              "      <td>No</td>\n",
              "      <td>No</td>\n",
              "    </tr>\n",
              "    <tr>\n",
              "      <th>2</th>\n",
              "      <td>1183</td>\n",
              "      <td>New</td>\n",
              "      <td>126.0</td>\n",
              "      <td>139</td>\n",
              "      <td>No</td>\n",
              "      <td>No</td>\n",
              "    </tr>\n",
              "    <tr>\n",
              "      <th>3</th>\n",
              "      <td>1184</td>\n",
              "      <td>Old</td>\n",
              "      <td>157.5</td>\n",
              "      <td>132</td>\n",
              "      <td>No</td>\n",
              "      <td>No</td>\n",
              "    </tr>\n",
              "    <tr>\n",
              "      <th>4</th>\n",
              "      <td>1185</td>\n",
              "      <td>New</td>\n",
              "      <td>168.0</td>\n",
              "      <td>109</td>\n",
              "      <td>No</td>\n",
              "      <td>No</td>\n",
              "    </tr>\n",
              "  </tbody>\n",
              "</table>\n",
              "</div>\n",
              "    <div class=\"colab-df-buttons\">\n",
              "\n",
              "  <div class=\"colab-df-container\">\n",
              "    <button class=\"colab-df-convert\" onclick=\"convertToInteractive('df-a14fee31-56a4-4521-984d-9fede6d50512')\"\n",
              "            title=\"Convert this dataframe to an interactive table.\"\n",
              "            style=\"display:none;\">\n",
              "\n",
              "  <svg xmlns=\"http://www.w3.org/2000/svg\" height=\"24px\" viewBox=\"0 -960 960 960\">\n",
              "    <path d=\"M120-120v-720h720v720H120Zm60-500h600v-160H180v160Zm220 220h160v-160H400v160Zm0 220h160v-160H400v160ZM180-400h160v-160H180v160Zm440 0h160v-160H620v160ZM180-180h160v-160H180v160Zm440 0h160v-160H620v160Z\"/>\n",
              "  </svg>\n",
              "    </button>\n",
              "\n",
              "  <style>\n",
              "    .colab-df-container {\n",
              "      display:flex;\n",
              "      gap: 12px;\n",
              "    }\n",
              "\n",
              "    .colab-df-convert {\n",
              "      background-color: #E8F0FE;\n",
              "      border: none;\n",
              "      border-radius: 50%;\n",
              "      cursor: pointer;\n",
              "      display: none;\n",
              "      fill: #1967D2;\n",
              "      height: 32px;\n",
              "      padding: 0 0 0 0;\n",
              "      width: 32px;\n",
              "    }\n",
              "\n",
              "    .colab-df-convert:hover {\n",
              "      background-color: #E2EBFA;\n",
              "      box-shadow: 0px 1px 2px rgba(60, 64, 67, 0.3), 0px 1px 3px 1px rgba(60, 64, 67, 0.15);\n",
              "      fill: #174EA6;\n",
              "    }\n",
              "\n",
              "    .colab-df-buttons div {\n",
              "      margin-bottom: 4px;\n",
              "    }\n",
              "\n",
              "    [theme=dark] .colab-df-convert {\n",
              "      background-color: #3B4455;\n",
              "      fill: #D2E3FC;\n",
              "    }\n",
              "\n",
              "    [theme=dark] .colab-df-convert:hover {\n",
              "      background-color: #434B5C;\n",
              "      box-shadow: 0px 1px 3px 1px rgba(0, 0, 0, 0.15);\n",
              "      filter: drop-shadow(0px 1px 2px rgba(0, 0, 0, 0.3));\n",
              "      fill: #FFFFFF;\n",
              "    }\n",
              "  </style>\n",
              "\n",
              "    <script>\n",
              "      const buttonEl =\n",
              "        document.querySelector('#df-a14fee31-56a4-4521-984d-9fede6d50512 button.colab-df-convert');\n",
              "      buttonEl.style.display =\n",
              "        google.colab.kernel.accessAllowed ? 'block' : 'none';\n",
              "\n",
              "      async function convertToInteractive(key) {\n",
              "        const element = document.querySelector('#df-a14fee31-56a4-4521-984d-9fede6d50512');\n",
              "        const dataTable =\n",
              "          await google.colab.kernel.invokeFunction('convertToInteractive',\n",
              "                                                    [key], {});\n",
              "        if (!dataTable) return;\n",
              "\n",
              "        const docLinkHtml = 'Like what you see? Visit the ' +\n",
              "          '<a target=\"_blank\" href=https://colab.research.google.com/notebooks/data_table.ipynb>data table notebook</a>'\n",
              "          + ' to learn more about interactive tables.';\n",
              "        element.innerHTML = '';\n",
              "        dataTable['output_type'] = 'display_data';\n",
              "        await google.colab.output.renderOutput(dataTable, element);\n",
              "        const docLink = document.createElement('div');\n",
              "        docLink.innerHTML = docLinkHtml;\n",
              "        element.appendChild(docLink);\n",
              "      }\n",
              "    </script>\n",
              "  </div>\n",
              "\n",
              "\n",
              "<div id=\"df-f823bd8c-2882-4238-9c79-8e5821f397db\">\n",
              "  <button class=\"colab-df-quickchart\" onclick=\"quickchart('df-f823bd8c-2882-4238-9c79-8e5821f397db')\"\n",
              "            title=\"Suggest charts\"\n",
              "            style=\"display:none;\">\n",
              "\n",
              "<svg xmlns=\"http://www.w3.org/2000/svg\" height=\"24px\"viewBox=\"0 0 24 24\"\n",
              "     width=\"24px\">\n",
              "    <g>\n",
              "        <path d=\"M19 3H5c-1.1 0-2 .9-2 2v14c0 1.1.9 2 2 2h14c1.1 0 2-.9 2-2V5c0-1.1-.9-2-2-2zM9 17H7v-7h2v7zm4 0h-2V7h2v10zm4 0h-2v-4h2v4z\"/>\n",
              "    </g>\n",
              "</svg>\n",
              "  </button>\n",
              "\n",
              "<style>\n",
              "  .colab-df-quickchart {\n",
              "      --bg-color: #E8F0FE;\n",
              "      --fill-color: #1967D2;\n",
              "      --hover-bg-color: #E2EBFA;\n",
              "      --hover-fill-color: #174EA6;\n",
              "      --disabled-fill-color: #AAA;\n",
              "      --disabled-bg-color: #DDD;\n",
              "  }\n",
              "\n",
              "  [theme=dark] .colab-df-quickchart {\n",
              "      --bg-color: #3B4455;\n",
              "      --fill-color: #D2E3FC;\n",
              "      --hover-bg-color: #434B5C;\n",
              "      --hover-fill-color: #FFFFFF;\n",
              "      --disabled-bg-color: #3B4455;\n",
              "      --disabled-fill-color: #666;\n",
              "  }\n",
              "\n",
              "  .colab-df-quickchart {\n",
              "    background-color: var(--bg-color);\n",
              "    border: none;\n",
              "    border-radius: 50%;\n",
              "    cursor: pointer;\n",
              "    display: none;\n",
              "    fill: var(--fill-color);\n",
              "    height: 32px;\n",
              "    padding: 0;\n",
              "    width: 32px;\n",
              "  }\n",
              "\n",
              "  .colab-df-quickchart:hover {\n",
              "    background-color: var(--hover-bg-color);\n",
              "    box-shadow: 0 1px 2px rgba(60, 64, 67, 0.3), 0 1px 3px 1px rgba(60, 64, 67, 0.15);\n",
              "    fill: var(--button-hover-fill-color);\n",
              "  }\n",
              "\n",
              "  .colab-df-quickchart-complete:disabled,\n",
              "  .colab-df-quickchart-complete:disabled:hover {\n",
              "    background-color: var(--disabled-bg-color);\n",
              "    fill: var(--disabled-fill-color);\n",
              "    box-shadow: none;\n",
              "  }\n",
              "\n",
              "  .colab-df-spinner {\n",
              "    border: 2px solid var(--fill-color);\n",
              "    border-color: transparent;\n",
              "    border-bottom-color: var(--fill-color);\n",
              "    animation:\n",
              "      spin 1s steps(1) infinite;\n",
              "  }\n",
              "\n",
              "  @keyframes spin {\n",
              "    0% {\n",
              "      border-color: transparent;\n",
              "      border-bottom-color: var(--fill-color);\n",
              "      border-left-color: var(--fill-color);\n",
              "    }\n",
              "    20% {\n",
              "      border-color: transparent;\n",
              "      border-left-color: var(--fill-color);\n",
              "      border-top-color: var(--fill-color);\n",
              "    }\n",
              "    30% {\n",
              "      border-color: transparent;\n",
              "      border-left-color: var(--fill-color);\n",
              "      border-top-color: var(--fill-color);\n",
              "      border-right-color: var(--fill-color);\n",
              "    }\n",
              "    40% {\n",
              "      border-color: transparent;\n",
              "      border-right-color: var(--fill-color);\n",
              "      border-top-color: var(--fill-color);\n",
              "    }\n",
              "    60% {\n",
              "      border-color: transparent;\n",
              "      border-right-color: var(--fill-color);\n",
              "    }\n",
              "    80% {\n",
              "      border-color: transparent;\n",
              "      border-right-color: var(--fill-color);\n",
              "      border-bottom-color: var(--fill-color);\n",
              "    }\n",
              "    90% {\n",
              "      border-color: transparent;\n",
              "      border-bottom-color: var(--fill-color);\n",
              "    }\n",
              "  }\n",
              "</style>\n",
              "\n",
              "  <script>\n",
              "    async function quickchart(key) {\n",
              "      const quickchartButtonEl =\n",
              "        document.querySelector('#' + key + ' button');\n",
              "      quickchartButtonEl.disabled = true;  // To prevent multiple clicks.\n",
              "      quickchartButtonEl.classList.add('colab-df-spinner');\n",
              "      try {\n",
              "        const charts = await google.colab.kernel.invokeFunction(\n",
              "            'suggestCharts', [key], {});\n",
              "      } catch (error) {\n",
              "        console.error('Error during call to suggestCharts:', error);\n",
              "      }\n",
              "      quickchartButtonEl.classList.remove('colab-df-spinner');\n",
              "      quickchartButtonEl.classList.add('colab-df-quickchart-complete');\n",
              "    }\n",
              "    (() => {\n",
              "      let quickchartButtonEl =\n",
              "        document.querySelector('#df-f823bd8c-2882-4238-9c79-8e5821f397db button');\n",
              "      quickchartButtonEl.style.display =\n",
              "        google.colab.kernel.accessAllowed ? 'block' : 'none';\n",
              "    })();\n",
              "  </script>\n",
              "</div>\n",
              "\n",
              "    </div>\n",
              "  </div>\n"
            ],
            "application/vnd.google.colaboratory.intrinsic+json": {
              "type": "dataframe",
              "variable_name": "df",
              "summary": "{\n  \"name\": \"df\",\n  \"rows\": 20628,\n  \"fields\": [\n    {\n      \"column\": \"User_id\",\n      \"properties\": {\n        \"dtype\": \"number\",\n        \"std\": 5954,\n        \"min\": 1181,\n        \"max\": 21808,\n        \"num_unique_values\": 20628,\n        \"samples\": [\n          13831,\n          2891,\n          10556\n        ],\n        \"semantic_type\": \"\",\n        \"description\": \"\"\n      }\n    },\n    {\n      \"column\": \"UX Design\",\n      \"properties\": {\n        \"dtype\": \"category\",\n        \"num_unique_values\": 2,\n        \"samples\": [\n          \"Old\",\n          \"New\"\n        ],\n        \"semantic_type\": \"\",\n        \"description\": \"\"\n      }\n    },\n    {\n      \"column\": \"Sales in first 30 days\",\n      \"properties\": {\n        \"dtype\": \"number\",\n        \"std\": 27.94744338366103,\n        \"min\": 31.5,\n        \"max\": 262.5,\n        \"num_unique_values\": 23,\n        \"samples\": [\n          220.5,\n          136.5\n        ],\n        \"semantic_type\": \"\",\n        \"description\": \"\"\n      }\n    },\n    {\n      \"column\": \"Time Spent on App in first 30 days\",\n      \"properties\": {\n        \"dtype\": \"number\",\n        \"std\": 24,\n        \"min\": 13,\n        \"max\": 236,\n        \"num_unique_values\": 186,\n        \"samples\": [\n          220,\n          67\n        ],\n        \"semantic_type\": \"\",\n        \"description\": \"\"\n      }\n    },\n    {\n      \"column\": \"Did Subscribe In 30 days?\",\n      \"properties\": {\n        \"dtype\": \"category\",\n        \"num_unique_values\": 2,\n        \"samples\": [\n          \"Yes\",\n          \"No\"\n        ],\n        \"semantic_type\": \"\",\n        \"description\": \"\"\n      }\n    },\n    {\n      \"column\": \"Retained After First 7 days (between 8 to 30 days of Signup)?\",\n      \"properties\": {\n        \"dtype\": \"category\",\n        \"num_unique_values\": 2,\n        \"samples\": [\n          \"No\",\n          \"Yes\"\n        ],\n        \"semantic_type\": \"\",\n        \"description\": \"\"\n      }\n    }\n  ]\n}"
            }
          },
          "metadata": {},
          "execution_count": 5
        }
      ]
    },
    {
      "cell_type": "markdown",
      "source": [
        "F test for sale"
      ],
      "metadata": {
        "id": "151GbDB3zDGJ"
      }
    },
    {
      "cell_type": "code",
      "source": [
        "# Separate the data based on UX Design\n",
        "new_design_sale = df[df['UX Design'] == 'New']['Sales in first 30 days']\n",
        "old_design_sale = df[df['UX Design'] == 'Old']['Sales in first 30 days']\n",
        "# Calculate the varience\n",
        "var_new_sale=new_design_sale.var()\n",
        "var_old_sale=old_design_sale.var()"
      ],
      "metadata": {
        "id": "ytzZBGV-y6u0"
      },
      "execution_count": 6,
      "outputs": []
    },
    {
      "cell_type": "code",
      "source": [
        "# Calculate f stat\n",
        "\n",
        "f_stat_sale = var_new_sale/var_old_sale if var_new_sale>var_old_sale else var_old_sale/ var_new_sale\n",
        "\n",
        "# Degree of freedom\n",
        "df_new_sales= len(new_design_sale)-1\n",
        "df_old_sales= len(old_design_sale)-1\n",
        "\n",
        "# p value calculation\n",
        "p_value_sale= 1-f.cdf(f_stat_sale,df_new_sales,df_old_sales) if var_new_sale>var_old_sale else 1-f.cdf(f_stat_sale,df_old_sales,df_new_sales)\n",
        "# f critical at 95% confidence level\n",
        "f_critical_sale = f.ppf(0.95,df_new_sales,df_old_sales ) if var_new_sale>var_old_sale else f.ppf(0.95,df_old_sales,df_new_sales)\n",
        "f_stat_sale, f_critical_sale, p_value_sale\n"
      ],
      "metadata": {
        "colab": {
          "base_uri": "https://localhost:8080/"
        },
        "id": "obkzZsSKzOU6",
        "outputId": "f4cd9d63-8880-4f4e-d0eb-125925cd8ff0"
      },
      "execution_count": 7,
      "outputs": [
        {
          "output_type": "execute_result",
          "data": {
            "text/plain": [
              "(2.108854538732643, 1.0329714243334345, 1.1102230246251565e-16)"
            ]
          },
          "metadata": {},
          "execution_count": 7
        }
      ]
    },
    {
      "cell_type": "markdown",
      "source": [
        "F test for time spent on App"
      ],
      "metadata": {
        "id": "2Wo2ib7kzWZ5"
      }
    },
    {
      "cell_type": "code",
      "source": [
        "# Separate the data based on UX Design\n",
        "new_design_TS = df[df['UX Design'] == 'New']['Time Spent on App in first 30 days']\n",
        "old_design_TS = df[df['UX Design'] == 'Old']['Time Spent on App in first 30 days']\n",
        "# Calculate the varience\n",
        "var_new_TS=new_design_TS.var()\n",
        "var_old_TS=old_design_TS.var()\n",
        "\n",
        "# Calculate f stat\n",
        "\n",
        "f_stat_ts = var_new_TS/var_old_TS if var_new_TS>var_old_TS else var_old_TS/ var_new_TS\n",
        "\n",
        "# Degree of freedom\n",
        "df_new_TS= len(new_design_TS)-1\n",
        "df_old_TS= len(old_design_TS)-1\n",
        "\n",
        "# p value calculation\n",
        "p_value_ts= 1-f.cdf(f_stat_ts,df_new_TS,df_old_TS) if var_new_TS>var_old_sale else 1-f.cdf(f_stat_ts,df_old_TS,df_new_TS)\n",
        "\n",
        "# f critical at 95% confidence level\n",
        "f_critical_ts = f.ppf(0.95,df_new_TS,df_old_TS ) if var_new_TS>df_old_TS else f.ppf(0.95,df_old_TS,df_new_TS)\n",
        "print(\"F-statistics is: \",f_stat_ts,\"F-Critical is: \", f_critical_ts, \"P-value is: \",p_value_ts)"
      ],
      "metadata": {
        "colab": {
          "base_uri": "https://localhost:8080/"
        },
        "id": "o5k0e2F4zVt5",
        "outputId": "fe6cf2d7-b8d8-4873-c07d-1cb43c12845b"
      },
      "execution_count": 8,
      "outputs": [
        {
          "output_type": "stream",
          "name": "stdout",
          "text": [
            "F-statistics is:  1.0622698579831038 F-Critical is:  1.032944010679504 P-value is:  0.0010976245045789534\n"
          ]
        }
      ]
    },
    {
      "cell_type": "markdown",
      "source": [
        "T test"
      ],
      "metadata": {
        "id": "VQBM7QtqzddR"
      }
    },
    {
      "cell_type": "code",
      "source": [
        "# t-Test for Time spent on Apps assuming unequal varience from F-test result\n",
        "s1= df[df['UX Design']=='New']['Time Spent on App in first 30 days']\n",
        "s2= df[df['UX Design']=='Old']['Time Spent on App in first 30 days']\n",
        "res_timespent = stats.ttest_ind(s1,s2,\n",
        "                      equal_var=False)\n",
        "print(f'p-value for two sided test: {res_timespent.pvalue / 2:.4f}')"
      ],
      "metadata": {
        "colab": {
          "base_uri": "https://localhost:8080/"
        },
        "id": "Hu5BS4uyzdHy",
        "outputId": "a7703693-be4b-4ca6-e879-10fae4e0ab9a"
      },
      "execution_count": 9,
      "outputs": [
        {
          "output_type": "stream",
          "name": "stdout",
          "text": [
            "p-value for two sided test: 0.0000\n"
          ]
        }
      ]
    },
    {
      "cell_type": "code",
      "source": [
        "# t-Test for sales assuming unequal varience from F-test result\n",
        "s3= df[df['UX Design']=='New']['Sales in first 30 days']\n",
        "s4= df[df['UX Design']=='Old']['Sales in first 30 days']\n",
        "res_sales = stats.ttest_ind(s3,s4,\n",
        "                      equal_var=False)\n",
        "print(f'p-value for two sided test: {res_sales.pvalue / 2:.4f}')"
      ],
      "metadata": {
        "colab": {
          "base_uri": "https://localhost:8080/"
        },
        "id": "hdFHnNKw0EPK",
        "outputId": "e80a8ffd-5203-47bd-bb8b-1e96c11ee90b"
      },
      "execution_count": 10,
      "outputs": [
        {
          "output_type": "stream",
          "name": "stdout",
          "text": [
            "p-value for two sided test: 0.0000\n"
          ]
        }
      ]
    },
    {
      "cell_type": "code",
      "source": [
        "print(f\" For sales:\", res_sales)\n",
        "print(f\" For Time spent:\", res_timespent)\n"
      ],
      "metadata": {
        "colab": {
          "base_uri": "https://localhost:8080/"
        },
        "id": "b6YI14jN0R1g",
        "outputId": "ab641727-f8b4-4758-fd05-35fcfd907974"
      },
      "execution_count": 11,
      "outputs": [
        {
          "output_type": "stream",
          "name": "stdout",
          "text": [
            " For sales: TtestResult(statistic=78.46128933659472, pvalue=0.0, df=19177.735718016662)\n",
            " For Time spent: TtestResult(statistic=-39.36471193732134, pvalue=0.0, df=20346.148904219317)\n"
          ]
        }
      ]
    },
    {
      "cell_type": "code",
      "source": [
        "# filter the data  to create New design and Old design\n",
        "n_design = df.loc[df['UX Design'] == 'New'].copy()\n",
        "o_design = df.loc[df['UX Design'] == 'Old'].copy()\n",
        "\n",
        "n_design = n_design.dropna(subset=['Sales in first 30 days'])\n",
        "o_design = o_design.dropna(subset=['Sales in first 30 days'])\n",
        "\n",
        "n_design = n_design.dropna(subset=['Time Spent on App in first 30 days'])\n",
        "o_design = o_design.dropna(subset=['Time Spent on App in first 30 days'])\n",
        "\n",
        "def cohen_d(x, y):\n",
        "    nx = len(x)\n",
        "    ny = len(y)\n",
        "    dof = nx + ny - 2\n",
        "    return (x.mean() - y.mean()) / sqrt(((nx-1)*x.var() + (ny-1)*y.var()) / dof)\n",
        "\n",
        "effect_size_sales = cohen_d(n_design['Sales in first 30 days'], o_design['Sales in first 30 days'])\n",
        "effect_size_time = cohen_d(n_design['Time Spent on App in first 30 days'], o_design['Time Spent on App in first 30 days'])\n",
        "\n",
        "# Calculate degrees of freedom for each metric\n",
        "dof_sales = len(n_design['Sales in first 30 days']) + len(o_design['Sales in first 30 days']) - 2\n",
        "dof_time = len(n_design['Time Spent on App in first 30 days']) + len(o_design['Time Spent on App in first 30 days']) - 2\n",
        "\n",
        "# Critical t-values for 95% confidence for each metric\n",
        "critical_t_sales = stats.t.ppf(1 - 0.025, dof_sales)  # two-tailed for sales\n",
        "critical_t_time = stats.t.ppf(1 - 0.025, dof_time)  # two-tailed for time\n",
        "\n",
        "print(f\"effect size for Sales is :\", effect_size_sales)\n",
        "print(f\"effect size for Time Spent is :\", effect_size_time)\n",
        "print(f\"Critical t-value for Sales is:\", critical_t_sales)\n",
        "print(f\"Critical t-value for Time Spent is:\", critical_t_time)"
      ],
      "metadata": {
        "colab": {
          "base_uri": "https://localhost:8080/"
        },
        "id": "8kFOa3NJ7jw6",
        "outputId": "091b7e7d-337b-4ddd-b1fc-2f42039455bb"
      },
      "execution_count": 12,
      "outputs": [
        {
          "output_type": "stream",
          "name": "stdout",
          "text": [
            "effect size for Sales is : 1.0767739541420576\n",
            "effect size for Time Spent is : -0.5494033718224477\n",
            "Critical t-value for Sales is: 1.960079004809524\n",
            "Critical t-value for Time Spent is: 1.960079004809524\n"
          ]
        }
      ]
    },
    {
      "cell_type": "code",
      "source": [
        "\n",
        "# Define a function to calculate the confidence interval\n",
        "def compute_confidence_interval(n1, m1, std1, n2, m2, std2):\n",
        "    # Calculate the pooled standard deviation (for equal variances)\n",
        "    pooled_std = np.sqrt(((n1 - 1) * std1**2 + (n2 - 1) * std2**2) / (n1 + n2 - 2))\n",
        "    # Calculate the standard error of the difference in means\n",
        "    se_diff = pooled_std * np.sqrt(1/n1 + 1/n2)\n",
        "    # Calculate the t critical value for 95% CI\n",
        "    dof = n1 + n2 - 2\n",
        "    t_crit = stats.t.ppf(1 - 0.025, dof)  # 95% CI, two-tailed\n",
        "    # Calculate the confidence interval\n",
        "    ci_lower = (m1 - m2) - t_crit * se_diff\n",
        "    ci_upper = (m1 - m2) + t_crit * se_diff\n",
        "    return ci_lower, ci_upper\n",
        "\n",
        "# Calculate the sample sizes, means and standard deviations for each metric\n",
        "c_sales_new = n_design['Sales in first 30 days'].count()\n",
        "m_sales_new = n_design['Sales in first 30 days'].mean()\n",
        "std_sales_new = n_design['Sales in first 30 days'].std()\n",
        "\n",
        "c_sales_old = o_design['Sales in first 30 days'].count()\n",
        "m_sales_old = o_design['Sales in first 30 days'].mean()\n",
        "std_sales_old = o_design['Sales in first 30 days'].std()\n",
        "\n",
        "c_time_new = n_design['Time Spent on App in first 30 days'].count()\n",
        "m_time_new = n_design['Time Spent on App in first 30 days'].mean()\n",
        "std_time_new = n_design['Time Spent on App in first 30 days'].std()\n",
        "\n",
        "c_time_old = o_design['Time Spent on App in first 30 days'].count()\n",
        "m_time_old = o_design['Time Spent on App in first 30 days'].mean()\n",
        "std_time_old = o_design['Time Spent on App in first 30 days'].std()\n",
        "\n",
        "# Calculate the confidence intervals\n",
        "ci_sales = compute_confidence_interval(c_sales_new, m_sales_new, std_sales_new, c_sales_old, m_sales_old, std_sales_old)\n",
        "ci_time = compute_confidence_interval(c_time_new, m_time_new, std_time_new, c_time_old, m_time_old, std_time_old)\n",
        "\n",
        "print(f\"95% Confidence interval for Sales LB and UB:\", ci_sales)\n",
        "print(f\"95% Confidence interval for Time Spent LB and UB:\", ci_time)"
      ],
      "metadata": {
        "colab": {
          "base_uri": "https://localhost:8080/"
        },
        "id": "QiIV9uNT9S5a",
        "outputId": "2aa1a680-02d6-4805-de4a-71df66d7a245"
      },
      "execution_count": 13,
      "outputs": [
        {
          "output_type": "stream",
          "name": "stdout",
          "text": [
            "95% Confidence interval for Sales LB and UB: (25.83046556652122, 27.17535297260772)\n",
            "95% Confidence interval for Time Spent LB and UB: (-13.799089481476653, -12.491716507146396)\n"
          ]
        }
      ]
    },
    {
      "cell_type": "markdown",
      "source": [
        "Reporting the final result"
      ],
      "metadata": {
        "id": "It2RoG1kKkqS"
      }
    },
    {
      "cell_type": "code",
      "source": [
        "# results\n",
        "print(f\"F-stat sale =\",f_stat_sale)\n",
        "print(f\"F test p value for sales =\", p_value_sale)\n",
        "print(f\"F Critical for sales =\",f_critical_sale)\n",
        "print(f\"F-stat time spent =\", f_stat_ts)\n",
        "print(f\"F test p value for time spent =\",p_value_ts)\n",
        "print(f\"F Critical for time spent =\", f_critical_ts)\n",
        "print(f\"T test result for sales =\", res_sales)\n",
        "print(f\"T test result for time spent =\", res_timespent)\n",
        "print(f\"effect size for sales =\",effect_size_sales)\n",
        "print(f\"effect size for time spent =\",effect_size_time)\n",
        "print(f\"T critical for sales =\",critical_t_sales)\n",
        "print(f\"T critical for time spent =\",critical_t_time)\n",
        "print(f\"Confidence interval for sale LB and UB =\",ci_sales)\n",
        "print(f\"Confidence interval for time spent LB and UB =\",ci_time)\n"
      ],
      "metadata": {
        "colab": {
          "base_uri": "https://localhost:8080/"
        },
        "id": "_Pk9wrJBFXxK",
        "outputId": "8ebdea1c-5e14-4e5f-d3fc-e58cf9ec3ccc"
      },
      "execution_count": 14,
      "outputs": [
        {
          "output_type": "stream",
          "name": "stdout",
          "text": [
            "F-stat sale = 2.108854538732643\n",
            "F test p value for sales = 1.1102230246251565e-16\n",
            "F Critical for sales = 1.0329714243334345\n",
            "F-stat time spent = 1.0622698579831038\n",
            "F test p value for time spent = 0.0010976245045789534\n",
            "F Critical for time spent = 1.032944010679504\n",
            "T test result for sales = TtestResult(statistic=78.46128933659472, pvalue=0.0, df=19177.735718016662)\n",
            "T test result for time spent = TtestResult(statistic=-39.36471193732134, pvalue=0.0, df=20346.148904219317)\n",
            "effect size for sales = 1.0767739541420576\n",
            "effect size for time spent = -0.5494033718224477\n",
            "T critical for sales = 1.960079004809524\n",
            "T critical for time spent = 1.960079004809524\n",
            "Confidence interval for sale LB and UB = (25.83046556652122, 27.17535297260772)\n",
            "Confidence interval for time spent LB and UB = (-13.799089481476653, -12.491716507146396)\n"
          ]
        }
      ]
    },
    {
      "cell_type": "code",
      "source": [
        "# Decision\n",
        "#P value for t test on sale and time spent on app are 0.\n",
        "pvaluesales=0.00\n",
        "pvaluetimespent=0.00\n",
        "#from above result\n",
        "alpha= 0.05\n",
        "\n",
        "if pvaluesales < alpha:\n",
        "    print(\"\\nReject the null hypothesis for Sales: There is a significant difference between the old and new designs.\")\n",
        "else:\n",
        "    print(\"\\nAccept the null hypothesis for Sales: There is no significant difference between the old and new designs.\")\n",
        "\n",
        "if pvaluetimespent < alpha:\n",
        "    print(\"Reject the null hypothesis for Time Spent: There is a significant difference between the old and new designs.\")\n",
        "else:\n",
        "    print(\"Accept the null hypothesis for Time Spent: There is no significant difference between the old and new designs.\")"
      ],
      "metadata": {
        "colab": {
          "base_uri": "https://localhost:8080/"
        },
        "id": "jS2RvOS8ErTk",
        "outputId": "7d0ab757-4534-475d-8277-7d2e042f6aaa"
      },
      "execution_count": 15,
      "outputs": [
        {
          "output_type": "stream",
          "name": "stdout",
          "text": [
            "\n",
            "Reject the null hypothesis for Sales: There is a significant difference between the old and new designs.\n",
            "Reject the null hypothesis for Time Spent: There is a significant difference between the old and new designs.\n"
          ]
        }
      ]
    },
    {
      "cell_type": "markdown",
      "source": [
        "2. Python chi-square test to compare subscription rate and retention rate of the new and old design\n"
      ],
      "metadata": {
        "id": "YcFo_Smp1uLi"
      }
    },
    {
      "cell_type": "code",
      "source": [
        "# Create the subset of the DataFrame\n",
        "df1 = df[['User_id', 'UX Design', 'Did Subscribe In 30 days?',\n",
        "                    'Retained After First 7 days (between 8 to 30 days of Signup)?']]\n",
        "\n",
        "# Display the first few rows of the subset\n",
        "df1.head()\n"
      ],
      "metadata": {
        "colab": {
          "base_uri": "https://localhost:8080/",
          "height": 206
        },
        "id": "hJ4Hp7Js11gf",
        "outputId": "f3d9ad84-ed84-4276-9e13-2b15dcf7dd48"
      },
      "execution_count": 16,
      "outputs": [
        {
          "output_type": "execute_result",
          "data": {
            "text/plain": [
              "   User_id UX Design Did Subscribe In 30 days?  \\\n",
              "0     1181       New                        No   \n",
              "1     1182       Old                        No   \n",
              "2     1183       New                        No   \n",
              "3     1184       Old                        No   \n",
              "4     1185       New                        No   \n",
              "\n",
              "  Retained After First 7 days (between 8 to 30 days of Signup)?  \n",
              "0                                                Yes             \n",
              "1                                                 No             \n",
              "2                                                 No             \n",
              "3                                                 No             \n",
              "4                                                 No             "
            ],
            "text/html": [
              "\n",
              "  <div id=\"df-78de3875-bffc-4ad3-8eb9-e99b15fb518f\" class=\"colab-df-container\">\n",
              "    <div>\n",
              "<style scoped>\n",
              "    .dataframe tbody tr th:only-of-type {\n",
              "        vertical-align: middle;\n",
              "    }\n",
              "\n",
              "    .dataframe tbody tr th {\n",
              "        vertical-align: top;\n",
              "    }\n",
              "\n",
              "    .dataframe thead th {\n",
              "        text-align: right;\n",
              "    }\n",
              "</style>\n",
              "<table border=\"1\" class=\"dataframe\">\n",
              "  <thead>\n",
              "    <tr style=\"text-align: right;\">\n",
              "      <th></th>\n",
              "      <th>User_id</th>\n",
              "      <th>UX Design</th>\n",
              "      <th>Did Subscribe In 30 days?</th>\n",
              "      <th>Retained After First 7 days (between 8 to 30 days of Signup)?</th>\n",
              "    </tr>\n",
              "  </thead>\n",
              "  <tbody>\n",
              "    <tr>\n",
              "      <th>0</th>\n",
              "      <td>1181</td>\n",
              "      <td>New</td>\n",
              "      <td>No</td>\n",
              "      <td>Yes</td>\n",
              "    </tr>\n",
              "    <tr>\n",
              "      <th>1</th>\n",
              "      <td>1182</td>\n",
              "      <td>Old</td>\n",
              "      <td>No</td>\n",
              "      <td>No</td>\n",
              "    </tr>\n",
              "    <tr>\n",
              "      <th>2</th>\n",
              "      <td>1183</td>\n",
              "      <td>New</td>\n",
              "      <td>No</td>\n",
              "      <td>No</td>\n",
              "    </tr>\n",
              "    <tr>\n",
              "      <th>3</th>\n",
              "      <td>1184</td>\n",
              "      <td>Old</td>\n",
              "      <td>No</td>\n",
              "      <td>No</td>\n",
              "    </tr>\n",
              "    <tr>\n",
              "      <th>4</th>\n",
              "      <td>1185</td>\n",
              "      <td>New</td>\n",
              "      <td>No</td>\n",
              "      <td>No</td>\n",
              "    </tr>\n",
              "  </tbody>\n",
              "</table>\n",
              "</div>\n",
              "    <div class=\"colab-df-buttons\">\n",
              "\n",
              "  <div class=\"colab-df-container\">\n",
              "    <button class=\"colab-df-convert\" onclick=\"convertToInteractive('df-78de3875-bffc-4ad3-8eb9-e99b15fb518f')\"\n",
              "            title=\"Convert this dataframe to an interactive table.\"\n",
              "            style=\"display:none;\">\n",
              "\n",
              "  <svg xmlns=\"http://www.w3.org/2000/svg\" height=\"24px\" viewBox=\"0 -960 960 960\">\n",
              "    <path d=\"M120-120v-720h720v720H120Zm60-500h600v-160H180v160Zm220 220h160v-160H400v160Zm0 220h160v-160H400v160ZM180-400h160v-160H180v160Zm440 0h160v-160H620v160ZM180-180h160v-160H180v160Zm440 0h160v-160H620v160Z\"/>\n",
              "  </svg>\n",
              "    </button>\n",
              "\n",
              "  <style>\n",
              "    .colab-df-container {\n",
              "      display:flex;\n",
              "      gap: 12px;\n",
              "    }\n",
              "\n",
              "    .colab-df-convert {\n",
              "      background-color: #E8F0FE;\n",
              "      border: none;\n",
              "      border-radius: 50%;\n",
              "      cursor: pointer;\n",
              "      display: none;\n",
              "      fill: #1967D2;\n",
              "      height: 32px;\n",
              "      padding: 0 0 0 0;\n",
              "      width: 32px;\n",
              "    }\n",
              "\n",
              "    .colab-df-convert:hover {\n",
              "      background-color: #E2EBFA;\n",
              "      box-shadow: 0px 1px 2px rgba(60, 64, 67, 0.3), 0px 1px 3px 1px rgba(60, 64, 67, 0.15);\n",
              "      fill: #174EA6;\n",
              "    }\n",
              "\n",
              "    .colab-df-buttons div {\n",
              "      margin-bottom: 4px;\n",
              "    }\n",
              "\n",
              "    [theme=dark] .colab-df-convert {\n",
              "      background-color: #3B4455;\n",
              "      fill: #D2E3FC;\n",
              "    }\n",
              "\n",
              "    [theme=dark] .colab-df-convert:hover {\n",
              "      background-color: #434B5C;\n",
              "      box-shadow: 0px 1px 3px 1px rgba(0, 0, 0, 0.15);\n",
              "      filter: drop-shadow(0px 1px 2px rgba(0, 0, 0, 0.3));\n",
              "      fill: #FFFFFF;\n",
              "    }\n",
              "  </style>\n",
              "\n",
              "    <script>\n",
              "      const buttonEl =\n",
              "        document.querySelector('#df-78de3875-bffc-4ad3-8eb9-e99b15fb518f button.colab-df-convert');\n",
              "      buttonEl.style.display =\n",
              "        google.colab.kernel.accessAllowed ? 'block' : 'none';\n",
              "\n",
              "      async function convertToInteractive(key) {\n",
              "        const element = document.querySelector('#df-78de3875-bffc-4ad3-8eb9-e99b15fb518f');\n",
              "        const dataTable =\n",
              "          await google.colab.kernel.invokeFunction('convertToInteractive',\n",
              "                                                    [key], {});\n",
              "        if (!dataTable) return;\n",
              "\n",
              "        const docLinkHtml = 'Like what you see? Visit the ' +\n",
              "          '<a target=\"_blank\" href=https://colab.research.google.com/notebooks/data_table.ipynb>data table notebook</a>'\n",
              "          + ' to learn more about interactive tables.';\n",
              "        element.innerHTML = '';\n",
              "        dataTable['output_type'] = 'display_data';\n",
              "        await google.colab.output.renderOutput(dataTable, element);\n",
              "        const docLink = document.createElement('div');\n",
              "        docLink.innerHTML = docLinkHtml;\n",
              "        element.appendChild(docLink);\n",
              "      }\n",
              "    </script>\n",
              "  </div>\n",
              "\n",
              "\n",
              "<div id=\"df-643b77f4-2332-4df7-9994-6fd18ea9a6d1\">\n",
              "  <button class=\"colab-df-quickchart\" onclick=\"quickchart('df-643b77f4-2332-4df7-9994-6fd18ea9a6d1')\"\n",
              "            title=\"Suggest charts\"\n",
              "            style=\"display:none;\">\n",
              "\n",
              "<svg xmlns=\"http://www.w3.org/2000/svg\" height=\"24px\"viewBox=\"0 0 24 24\"\n",
              "     width=\"24px\">\n",
              "    <g>\n",
              "        <path d=\"M19 3H5c-1.1 0-2 .9-2 2v14c0 1.1.9 2 2 2h14c1.1 0 2-.9 2-2V5c0-1.1-.9-2-2-2zM9 17H7v-7h2v7zm4 0h-2V7h2v10zm4 0h-2v-4h2v4z\"/>\n",
              "    </g>\n",
              "</svg>\n",
              "  </button>\n",
              "\n",
              "<style>\n",
              "  .colab-df-quickchart {\n",
              "      --bg-color: #E8F0FE;\n",
              "      --fill-color: #1967D2;\n",
              "      --hover-bg-color: #E2EBFA;\n",
              "      --hover-fill-color: #174EA6;\n",
              "      --disabled-fill-color: #AAA;\n",
              "      --disabled-bg-color: #DDD;\n",
              "  }\n",
              "\n",
              "  [theme=dark] .colab-df-quickchart {\n",
              "      --bg-color: #3B4455;\n",
              "      --fill-color: #D2E3FC;\n",
              "      --hover-bg-color: #434B5C;\n",
              "      --hover-fill-color: #FFFFFF;\n",
              "      --disabled-bg-color: #3B4455;\n",
              "      --disabled-fill-color: #666;\n",
              "  }\n",
              "\n",
              "  .colab-df-quickchart {\n",
              "    background-color: var(--bg-color);\n",
              "    border: none;\n",
              "    border-radius: 50%;\n",
              "    cursor: pointer;\n",
              "    display: none;\n",
              "    fill: var(--fill-color);\n",
              "    height: 32px;\n",
              "    padding: 0;\n",
              "    width: 32px;\n",
              "  }\n",
              "\n",
              "  .colab-df-quickchart:hover {\n",
              "    background-color: var(--hover-bg-color);\n",
              "    box-shadow: 0 1px 2px rgba(60, 64, 67, 0.3), 0 1px 3px 1px rgba(60, 64, 67, 0.15);\n",
              "    fill: var(--button-hover-fill-color);\n",
              "  }\n",
              "\n",
              "  .colab-df-quickchart-complete:disabled,\n",
              "  .colab-df-quickchart-complete:disabled:hover {\n",
              "    background-color: var(--disabled-bg-color);\n",
              "    fill: var(--disabled-fill-color);\n",
              "    box-shadow: none;\n",
              "  }\n",
              "\n",
              "  .colab-df-spinner {\n",
              "    border: 2px solid var(--fill-color);\n",
              "    border-color: transparent;\n",
              "    border-bottom-color: var(--fill-color);\n",
              "    animation:\n",
              "      spin 1s steps(1) infinite;\n",
              "  }\n",
              "\n",
              "  @keyframes spin {\n",
              "    0% {\n",
              "      border-color: transparent;\n",
              "      border-bottom-color: var(--fill-color);\n",
              "      border-left-color: var(--fill-color);\n",
              "    }\n",
              "    20% {\n",
              "      border-color: transparent;\n",
              "      border-left-color: var(--fill-color);\n",
              "      border-top-color: var(--fill-color);\n",
              "    }\n",
              "    30% {\n",
              "      border-color: transparent;\n",
              "      border-left-color: var(--fill-color);\n",
              "      border-top-color: var(--fill-color);\n",
              "      border-right-color: var(--fill-color);\n",
              "    }\n",
              "    40% {\n",
              "      border-color: transparent;\n",
              "      border-right-color: var(--fill-color);\n",
              "      border-top-color: var(--fill-color);\n",
              "    }\n",
              "    60% {\n",
              "      border-color: transparent;\n",
              "      border-right-color: var(--fill-color);\n",
              "    }\n",
              "    80% {\n",
              "      border-color: transparent;\n",
              "      border-right-color: var(--fill-color);\n",
              "      border-bottom-color: var(--fill-color);\n",
              "    }\n",
              "    90% {\n",
              "      border-color: transparent;\n",
              "      border-bottom-color: var(--fill-color);\n",
              "    }\n",
              "  }\n",
              "</style>\n",
              "\n",
              "  <script>\n",
              "    async function quickchart(key) {\n",
              "      const quickchartButtonEl =\n",
              "        document.querySelector('#' + key + ' button');\n",
              "      quickchartButtonEl.disabled = true;  // To prevent multiple clicks.\n",
              "      quickchartButtonEl.classList.add('colab-df-spinner');\n",
              "      try {\n",
              "        const charts = await google.colab.kernel.invokeFunction(\n",
              "            'suggestCharts', [key], {});\n",
              "      } catch (error) {\n",
              "        console.error('Error during call to suggestCharts:', error);\n",
              "      }\n",
              "      quickchartButtonEl.classList.remove('colab-df-spinner');\n",
              "      quickchartButtonEl.classList.add('colab-df-quickchart-complete');\n",
              "    }\n",
              "    (() => {\n",
              "      let quickchartButtonEl =\n",
              "        document.querySelector('#df-643b77f4-2332-4df7-9994-6fd18ea9a6d1 button');\n",
              "      quickchartButtonEl.style.display =\n",
              "        google.colab.kernel.accessAllowed ? 'block' : 'none';\n",
              "    })();\n",
              "  </script>\n",
              "</div>\n",
              "\n",
              "    </div>\n",
              "  </div>\n"
            ],
            "application/vnd.google.colaboratory.intrinsic+json": {
              "type": "dataframe",
              "variable_name": "df1",
              "summary": "{\n  \"name\": \"df1\",\n  \"rows\": 20628,\n  \"fields\": [\n    {\n      \"column\": \"User_id\",\n      \"properties\": {\n        \"dtype\": \"number\",\n        \"std\": 5954,\n        \"min\": 1181,\n        \"max\": 21808,\n        \"num_unique_values\": 20628,\n        \"samples\": [\n          13831,\n          2891,\n          10556\n        ],\n        \"semantic_type\": \"\",\n        \"description\": \"\"\n      }\n    },\n    {\n      \"column\": \"UX Design\",\n      \"properties\": {\n        \"dtype\": \"category\",\n        \"num_unique_values\": 2,\n        \"samples\": [\n          \"Old\",\n          \"New\"\n        ],\n        \"semantic_type\": \"\",\n        \"description\": \"\"\n      }\n    },\n    {\n      \"column\": \"Did Subscribe In 30 days?\",\n      \"properties\": {\n        \"dtype\": \"category\",\n        \"num_unique_values\": 2,\n        \"samples\": [\n          \"Yes\",\n          \"No\"\n        ],\n        \"semantic_type\": \"\",\n        \"description\": \"\"\n      }\n    },\n    {\n      \"column\": \"Retained After First 7 days (between 8 to 30 days of Signup)?\",\n      \"properties\": {\n        \"dtype\": \"category\",\n        \"num_unique_values\": 2,\n        \"samples\": [\n          \"No\",\n          \"Yes\"\n        ],\n        \"semantic_type\": \"\",\n        \"description\": \"\"\n      }\n    }\n  ]\n}"
            }
          },
          "metadata": {},
          "execution_count": 16
        }
      ]
    },
    {
      "cell_type": "code",
      "source": [
        "\n",
        "# Prepare the contingency table for subscription rates\n",
        "subscription_table = pd.crosstab(df1['UX Design'], df1['Did Subscribe In 30 days?'])\n",
        "\n",
        "# Display the subscription rates contingency table\n",
        "print(\"Subscription Rates Contingency Table:\")\n",
        "print(subscription_table)\n",
        "\n",
        "# Prepare the contingency table for retention rates\n",
        "retention_table = pd.crosstab(df1['UX Design'], df1['Retained After First 7 days (between 8 to 30 days of Signup)?'])\n",
        "\n",
        "# Display the retention rates contingency table\n",
        "print(\"Retention Rates Contingency Table:\")\n",
        "print(retention_table)\n"
      ],
      "metadata": {
        "colab": {
          "base_uri": "https://localhost:8080/"
        },
        "id": "dryyLFTOQAtj",
        "outputId": "c83bae93-8856-4a38-a3bc-ba54356d9027"
      },
      "execution_count": 59,
      "outputs": [
        {
          "output_type": "stream",
          "name": "stdout",
          "text": [
            "Subscription Rates Contingency Table:\n",
            "Did Subscribe In 30 days?    No   Yes\n",
            "UX Design                            \n",
            "New                        5465  5298\n",
            "Old                        4885  4980\n",
            "Retention Rates Contingency Table:\n",
            "Retained After First 7 days (between 8 to 30 days of Signup)?    No   Yes\n",
            "UX Design                                                                \n",
            "New                                                            6325  4438\n",
            "Old                                                            4081  5784\n"
          ]
        }
      ]
    },
    {
      "cell_type": "code",
      "source": [
        "import pandas as pd\n",
        "import numpy as np\n",
        "from scipy.stats import chi2_contingency\n",
        "\n",
        "# Function to calculate Cramér's V for effect size\n",
        "def cramers_v(chi2, n, k):\n",
        "    return np.sqrt(chi2 / (n * (k - 1)))\n",
        "\n",
        "# Chi-square tests\n",
        "chi2_sub, p_sub, dof_sub, expected_sub = chi2_contingency(subscription_table)\n",
        "chi2_ret, p_ret, dof_ret, expected_ret = chi2_contingency(retention_table)\n",
        "\n",
        "# Calculate effect sizes\n",
        "total_n = df1.shape[0]  # Total number of observations\n",
        "cramers_v_sub = cramers_v(chi2_sub, total_n, 2)\n",
        "cramers_v_ret = cramers_v(chi2_ret, total_n, 2)\n",
        "\n",
        "# Printing results for Subscription Rates\n",
        "print(\"Subscription Rates:\")\n",
        "print(\"Chi-Square Statistic:\", chi2_sub)\n",
        "print(\"p-value:\", p_sub)\n",
        "print(\"Degrees of Freedom:\", dof_sub)\n",
        "print(\"Expected Frequencies:\\n\", expected_sub)\n",
        "print(\"Effect Size (Cramér's V):\", cramers_v_sub)\n",
        "print()\n",
        "\n",
        "# Printing results for Retention Rates\n",
        "print(\"Retention Rates:\")\n",
        "print(\"Chi-Square Statistic:\", chi2_ret)\n",
        "print(\"p-value:\", p_ret)\n",
        "print(\"Degrees of Freedom:\", dof_ret)\n",
        "print(\"Expected Frequencies:\\n\", expected_ret)\n",
        "print(\"Effect Size (Cramér's V):\", cramers_v_ret)\n"
      ],
      "metadata": {
        "colab": {
          "base_uri": "https://localhost:8080/"
        },
        "id": "x9_oksvHUOqo",
        "outputId": "bc51432e-2c9f-49f8-8af5-cafd6f52e6dc"
      },
      "execution_count": 18,
      "outputs": [
        {
          "output_type": "stream",
          "name": "stdout",
          "text": [
            "Subscription Rates:\n",
            "Chi-Square Statistic: 3.204674699195494\n",
            "p-value: 0.07342810934334182\n",
            "Degrees of Freedom: 1\n",
            "Expected Frequencies:\n",
            " [[5400.28359511 5362.71640489]\n",
            " [4949.71640489 4915.28359511]]\n",
            "Effect Size (Cramér's V): 0.012464171455010319\n",
            "\n",
            "Retention Rates:\n",
            "Chi-Square Statistic: 622.536564010803\n",
            "p-value: 2.0992565726059413e-137\n",
            "Degrees of Freedom: 1\n",
            "Expected Frequencies:\n",
            " [[5429.50252085 5333.49747915]\n",
            " [4976.49747915 4888.50252085]]\n",
            "Effect Size (Cramér's V): 0.17372162007170422\n"
          ]
        }
      ]
    },
    {
      "cell_type": "code",
      "source": [
        "\n",
        "def calculate_confidence_interval(n, x, confidence=0.95):\n",
        "    \"\"\"\n",
        "    Calculate the confidence interval for a proportion.\n",
        "\n",
        "    Parameters:\n",
        "    n : int\n",
        "        Total number of trials or observations.\n",
        "    x : int\n",
        "        Number of successes or positive outcomes.\n",
        "    confidence : float\n",
        "        Confidence level for the interval.\n",
        "\n",
        "    Returns:\n",
        "    tuple\n",
        "        Lower and upper bounds of the confidence interval.\n",
        "    \"\"\"\n",
        "    p = x / n\n",
        "    z = norm.ppf((1 + confidence) / 2)\n",
        "    se = np.sqrt(p * (1 - p) / n)\n",
        "    lower = p - z * se\n",
        "    upper = p + z * se\n",
        "    return (lower, upper)\n",
        "\n",
        "# Example data from the contingency tables\n",
        "# You need to replace these with actual counts from your data\n",
        "n_new_sub_yes = 5298\n",
        "n_new_sub_no = 5465\n",
        "n_old_sub_yes = 4980\n",
        "n_old_sub_no = 4885\n",
        "\n",
        "n_new_ret_yes = 4438\n",
        "n_new_ret_no = 6325\n",
        "n_old_ret_yes = 5784\n",
        "n_old_ret_no = 4081\n",
        "\n",
        "# Total observations for new and old designs\n",
        "n_new_sub = n_new_sub_yes + n_new_sub_no\n",
        "n_old_sub = n_old_sub_yes + n_old_sub_no\n",
        "n_new_ret = n_new_ret_yes + n_new_ret_no\n",
        "n_old_ret = n_old_ret_yes + n_old_ret_no\n",
        "\n",
        "# Calculate confidence intervals for each category\n",
        "ci_new_sub_yes = calculate_confidence_interval(n_new_sub, n_new_sub_yes)\n",
        "ci_old_sub_yes = calculate_confidence_interval(n_old_sub, n_old_sub_yes)\n",
        "ci_new_ret_yes = calculate_confidence_interval(n_new_ret, n_new_ret_yes)\n",
        "ci_old_ret_yes = calculate_confidence_interval(n_old_ret, n_old_ret_yes)\n",
        "\n",
        "# Print the results\n",
        "print(\"Confidence Intervals for Retention Rates:\")\n",
        "print(f\"New Design - Yes: {ci_new_ret_yes}\")\n",
        "print(f\"Old Design - Yes: {ci_old_ret_yes}\")\n",
        "\n",
        "print(\"Confidence Intervals for Subscription Rates:\")\n",
        "print(f\"New Design - Yes: {ci_new_sub_yes}\")\n",
        "print(f\"Old Design - Yes: {ci_old_sub_yes}\")\n"
      ],
      "metadata": {
        "colab": {
          "base_uri": "https://localhost:8080/"
        },
        "id": "A-_5VwwNUn9K",
        "outputId": "462dd9b0-d1e8-4175-a499-3bdc45bb1ee7"
      },
      "execution_count": 64,
      "outputs": [
        {
          "output_type": "stream",
          "name": "stdout",
          "text": [
            "Confidence Intervals for Retention Rates:\n",
            "New Design - Yes: (0.4030388018820089, 0.4216383327458829)\n",
            "Old Design - Yes: (0.5765967412495254, 0.5960337706612704)\n",
            "Confidence Intervals for Subscription Rates:\n",
            "New Design - Yes: (0.48279700134170733, 0.5016868786174119)\n",
            "Old Design - Yes: (0.49494881395790596, 0.5146811911105178)\n"
          ]
        }
      ]
    },
    {
      "cell_type": "code",
      "source": [
        "#Report the result\n",
        "print(\"Subscription rate\")\n",
        "print(\"Chi-Square Statistic:\", chi2_sub)\n",
        "print(\"p-value:\", p_sub)\n",
        "print(\"Effect Size :\", cramers_v_sub)\n",
        "print(\"Confidence Intervals for Subscription Rates:\")\n",
        "print(f\"New Design - Yes: {ci_new_sub_yes}\")\n",
        "print(f\"Old Design - Yes: {ci_old_sub_yes}\")\n",
        "print(\"Retention rate\")\n",
        "print(\"Chi-Square Statistic:\", chi2_ret)\n",
        "print(\"p-value:\", p_ret)\n",
        "print(\"Effect Size :\", cramers_v_ret)\n",
        "print(\"Confidence Intervals for Retention Rates:\")\n",
        "print(f\"New Design - Yes: {ci_new_ret_yes}\")\n",
        "print(f\"Old Design - Yes: {ci_old_ret_yes}\")\n",
        "# Decision\n",
        "alpha = 0.05\n",
        "if p_sub < alpha:\n",
        "    print(\"\\nReject the null hypothesis for Subscription Rate: There is a significant difference between the old and new designs.\")\n",
        "else:\n",
        "    print(\"\\nAccept the null hypothesis for Subscription Rate: There is no significant difference between the old and new designs.\")\n",
        "\n",
        "if p_ret < alpha:\n",
        "    print(\"Reject the null hypothesis for Retention Rate: There is a significant difference between the old and new designs.\")\n",
        "else:\n",
        "    print(\"Accept the null hypothesis for Retention Rate: There is no significant difference between the old and new designs.\")"
      ],
      "metadata": {
        "colab": {
          "base_uri": "https://localhost:8080/"
        },
        "id": "Mz7wY1_zerSu",
        "outputId": "b93396a2-5239-4662-eaab-3b67b159374f"
      },
      "execution_count": 91,
      "outputs": [
        {
          "output_type": "stream",
          "name": "stdout",
          "text": [
            "Subscription rate\n",
            "Chi-Square Statistic: 3.204674699195494\n",
            "p-value: 0.077\n",
            "Effect Size : 0.012464171455010319\n",
            "Confidence Intervals for Subscription Rates:\n",
            "New Design - Yes: (0.48279700134170733, 0.5016868786174119)\n",
            "Old Design - Yes: (0.49494881395790596, 0.5146811911105178)\n",
            "Retention rate\n",
            "Chi-Square Statistic: 622.536564010803\n",
            "p-value: 0.0\n",
            "Effect Size : 0.17372162007170422\n",
            "Confidence Intervals for Retention Rates:\n",
            "New Design - Yes: (0.4030388018820089, 0.4216383327458829)\n",
            "Old Design - Yes: (0.5765967412495254, 0.5960337706612704)\n",
            "\n",
            "Accept the null hypothesis for Subscription Rate: There is no significant difference between the old and new designs.\n",
            "Reject the null hypothesis for Retention Rate: There is a significant difference between the old and new designs.\n"
          ]
        }
      ]
    },
    {
      "cell_type": "markdown",
      "source": [
        "Permutation test"
      ],
      "metadata": {
        "id": "DYAHdQC9WJ7b"
      }
    },
    {
      "cell_type": "code",
      "source": [
        "\n",
        "\n",
        "def permutation_test(subscription, retention, num_permutations=1000):\n",
        "    \"\"\"\n",
        "    Perform a permutation test for the difference in proportions.\n",
        "\n",
        "    Parameters:\n",
        "    subscription : array_like\n",
        "        Data points from group 1.\n",
        "    retention : array_like\n",
        "        Data points from group 2.\n",
        "    num_permutations : int\n",
        "        Number of permutations to perform.\n",
        "\n",
        "    Returns:\n",
        "    p-value : float\n",
        "        The p-value of observing a difference as extreme as the actual difference.\n",
        "    \"\"\"\n",
        "    # Combine all data points\n",
        "    all_data = np.concatenate([subscription, retention])\n",
        "    size = subscription.size\n",
        "    observed_diff = np.abs(subscription.mean() - retention.mean())\n",
        "\n",
        "    # Generate permutations\n",
        "    perm_diffs = []\n",
        "    for _ in range(num_permutations):\n",
        "        np.random.shuffle(all_data)\n",
        "        new_group1 = all_data[:size]\n",
        "        new_group2 = all_data[size:]\n",
        "        perm_diffs.append(np.abs(new_group1.mean() - new_group2.mean()))\n",
        "\n",
        "    # Compute p-value\n",
        "    p_value = np.mean(perm_diffs >= observed_diff)\n",
        "    return p_value, perm_diffs, observed_diff\n",
        "\n",
        "# Data arrays for New and Old UX designs\n",
        "# Subscription Yes responses\n",
        "sub_new = np.array([1]*5298 + [0]*5465)\n",
        "sub_old = np.array([1]*4980 + [0]*4885)\n",
        "\n",
        "# Retention Yes responses\n",
        "ret_new = np.array([1]*4438 + [0]*6325)\n",
        "ret_old = np.array([1]*5784 + [0]*4081)\n",
        "\n",
        "# Perform permutation tests\n",
        "p_subscription, perm_subs, obs_sub = permutation_test(sub_new, sub_old)\n",
        "p_retention, perm_rets, obs_ret = permutation_test(ret_new, ret_old)\n",
        "\n",
        "# Plot the results\n",
        "fig, axes = plt.subplots(1, 2, figsize=(12, 5))\n",
        "\n",
        "# Subscription plot\n",
        "axes[0].hist(perm_subs, bins=10, alpha=0.7, label='Permutation distribution')\n",
        "axes[0].axvline(obs_sub, color='red', linewidth=2, label='Observed difference')\n",
        "axes[0].set_title('Permutation Test for Subscription Rates')\n",
        "axes[0].set_xlabel('Difference in mean')\n",
        "axes[0].set_ylabel('Frequency')\n",
        "axes[0].legend()\n",
        "\n",
        "# Retention plot\n",
        "axes[1].hist(perm_rets, bins=2, alpha=0.7, label='Permutation distribution')\n",
        "axes[1].axvline(obs_ret, color='red', linewidth=2, label='Observed difference')\n",
        "axes[1].set_title('Permutation Test for Retention Rates')\n",
        "axes[1].set_xlabel('Difference in mean')\n",
        "axes[1].set_ylabel('Frequency')\n",
        "axes[1].legend()\n",
        "plt.tight_layout()\n",
        "plt.show()\n",
        "\n",
        "# Print p-values\n",
        "print(\"P-value for subscription rates:\", p_subscription)\n",
        "print(\"P-value for retention rates:\", p_retention)\n"
      ],
      "metadata": {
        "colab": {
          "base_uri": "https://localhost:8080/",
          "height": 542
        },
        "id": "K01oWkAyzkC3",
        "outputId": "e6d5d455-55be-4cb0-b9ed-479973bcfc40"
      },
      "execution_count": 124,
      "outputs": [
        {
          "output_type": "display_data",
          "data": {
            "text/plain": [
              "<Figure size 1200x500 with 2 Axes>"
            ],
            "image/png": "[encoded data removed]"
          },
          "metadata": {}
        },
        {
          "output_type": "stream",
          "name": "stdout",
          "text": [
            "P-value for subscription rates: 0.071\n",
            "P-value for retention rates: 0.0\n"
          ]
        }
      ]
    },
    {
      "cell_type": "markdown",
      "source": [
        "# **Result**\n",
        "\n",
        "**Subscription Rates**\n",
        "P-value: The reported p-value is 0.071, which is above the standard threshold of 0.05 for statistical significance. This suggests that the observed difference in subscription rates between the new and old designs could be due to chance. The new design does not appear to significantly alter the likelihood of users subscribing compared to the old design.\n",
        "\n",
        "**Retention Rates**\n",
        "P-value: The reported p-value is 0.0, which is well below the threshold of 0.05, indicating that the difference in retention rates is highly statistically significant. This suggests that users are more likely to continue using our service beyond the initial sign-up period when interacting with the new UX design.\n",
        "\n",
        "From all the above findings, It is recommend deploying the new UX design with a focus on the long-term engagement and retention of  user base. The significant improvement in retention rates can lead to increased lifetime value per user and is indicative of a better overall user experience.\n",
        "\n",
        "To conclude, the data analysis result underscores the strategic importance of retention, an area where the new design excels. Based on the results, deploying the new design is not only advisable but also strategically sound, primarily due to its substantial impact on retention rates, a critical metric for long-term business success."
      ],
      "metadata": {
        "id": "OnxAAmPh0rbd"
      }
    }
  ]
}